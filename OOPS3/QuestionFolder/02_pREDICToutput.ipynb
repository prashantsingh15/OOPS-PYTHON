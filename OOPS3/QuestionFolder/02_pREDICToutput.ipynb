{
 "cells": [
  {
   "cell_type": "code",
   "execution_count": 4,
   "metadata": {},
   "outputs": [],
   "source": [
    "from abc import ABC,abstractmethod"
   ]
  },
  {
   "cell_type": "code",
   "execution_count": 5,
   "metadata": {},
   "outputs": [],
   "source": [
    "class A(ABC):\n",
    "    \n",
    "    @abstractmethod\n",
    "    def fun1(self):\n",
    "        pass\n",
    "\n",
    "    @abstractmethod\n",
    "    def fun2(self):\n",
    "        pass\n",
    "\n",
    "\n",
    "class B(A):\n",
    "    def fun1(self):\n",
    "        print(\"function 1 called\")\n",
    "\n",
    "    def fun2(self):\n",
    "        print(\"function 2 called\")"
   ]
  },
  {
   "cell_type": "code",
   "execution_count": 7,
   "metadata": {},
   "outputs": [
    {
     "name": "stdout",
     "output_type": "stream",
     "text": [
      "function 1 called\n"
     ]
    }
   ],
   "source": [
    "o=B()\n",
    "o.fun1()\n"
   ]
  }
 ],
 "metadata": {
  "kernelspec": {
   "display_name": "Python 3.9.12 ('base')",
   "language": "python",
   "name": "python3"
  },
  "language_info": {
   "codemirror_mode": {
    "name": "ipython",
    "version": 3
   },
   "file_extension": ".py",
   "mimetype": "text/x-python",
   "name": "python",
   "nbconvert_exporter": "python",
   "pygments_lexer": "ipython3",
   "version": "3.9.12"
  },
  "orig_nbformat": 4,
  "vscode": {
   "interpreter": {
    "hash": "e4abcd0df340a594effa82bcbf617a3d481270f90641c881f508b0a532b65559"
   }
  }
 },
 "nbformat": 4,
 "nbformat_minor": 2
}
