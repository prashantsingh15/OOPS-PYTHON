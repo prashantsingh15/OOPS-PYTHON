{
 "cells": [
  {
   "cell_type": "code",
   "execution_count": 4,
   "metadata": {},
   "outputs": [],
   "source": [
    "class Vehicle:\n",
    "    def __init__(self,color):\n",
    "        self.__color=color\n",
    "class car(Vehicle):\n",
    "    def __init__(self, color,numGears):\n",
    "        super().__init__(color)\n",
    "        self.numGears=numGears\n",
    "        \n",
    "        "
   ]
  },
  {
   "cell_type": "code",
   "execution_count": 6,
   "metadata": {},
   "outputs": [
    {
     "ename": "AttributeError",
     "evalue": "'car' object has no attribute 'printCAr'",
     "output_type": "error",
     "traceback": [
      "\u001b[1;31m---------------------------------------------------------------------------\u001b[0m",
      "\u001b[1;31mAttributeError\u001b[0m                            Traceback (most recent call last)",
      "\u001b[1;32me:\\OOPS 2\\02_predict_output.ipynb Cell 2\u001b[0m in \u001b[0;36m<cell line: 6>\u001b[1;34m()\u001b[0m\n\u001b[0;32m      <a href='vscode-notebook-cell:/e%3A/OOPS%202/02_predict_output.ipynb#W2sZmlsZQ%3D%3D?line=2'>3</a>\u001b[0m     \u001b[39mprint\u001b[39m(c\u001b[39m.\u001b[39mnumgears)\n\u001b[0;32m      <a href='vscode-notebook-cell:/e%3A/OOPS%202/02_predict_output.ipynb#W2sZmlsZQ%3D%3D?line=4'>5</a>\u001b[0m c\u001b[39m=\u001b[39mcar(\u001b[39m\"\u001b[39m\u001b[39mblack\u001b[39m\u001b[39m\"\u001b[39m,\u001b[39m5\u001b[39m)\n\u001b[1;32m----> <a href='vscode-notebook-cell:/e%3A/OOPS%202/02_predict_output.ipynb#W2sZmlsZQ%3D%3D?line=5'>6</a>\u001b[0m c\u001b[39m.\u001b[39;49mprintCAr()\n",
      "\u001b[1;31mAttributeError\u001b[0m: 'car' object has no attribute 'printCAr'"
     ]
    }
   ],
   "source": [
    "def printCAr(self):\n",
    "    print(c.__color,end=\" \")\n",
    "    print(c.numgears)\n",
    "\n",
    "c=car(\"black\",5)\n",
    "c.printCAr()"
   ]
  },
  {
   "cell_type": "code",
   "execution_count": null,
   "metadata": {},
   "outputs": [],
   "source": []
  }
 ],
 "metadata": {
  "kernelspec": {
   "display_name": "Python 3.9.12 ('base')",
   "language": "python",
   "name": "python3"
  },
  "language_info": {
   "codemirror_mode": {
    "name": "ipython",
    "version": 3
   },
   "file_extension": ".py",
   "mimetype": "text/x-python",
   "name": "python",
   "nbconvert_exporter": "python",
   "pygments_lexer": "ipython3",
   "version": "3.9.12"
  },
  "orig_nbformat": 4,
  "vscode": {
   "interpreter": {
    "hash": "e4abcd0df340a594effa82bcbf617a3d481270f90641c881f508b0a532b65559"
   }
  }
 },
 "nbformat": 4,
 "nbformat_minor": 2
}
