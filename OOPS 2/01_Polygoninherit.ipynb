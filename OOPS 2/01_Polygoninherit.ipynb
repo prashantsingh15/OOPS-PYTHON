{
 "cells": [
  {
   "cell_type": "code",
   "execution_count": 6,
   "metadata": {},
   "outputs": [],
   "source": [
    "class polygon:\n",
    "    def __init__(self,no_of_sides):#Constructor\n",
    "        self.n=no_of_sides\n",
    "        self.sides=[0 for i in range(no_of_sides)]\n",
    "\n",
    "    def inputSides(self): #Takses user iput for side length\n",
    "\n",
    "        self.sides=[int(input(\"Enter sides: \"))for i in range(self.n)]\n",
    "\n",
    "    def displaysides(self): # print the sides of the polygon \n",
    "        for i in range (self.n):\n",
    "            print(\"side\",i+1,\"is\",self.sides[i])\n",
    "\n",
    "\n",
    "\n",
    "        "
   ]
  }
 ],
 "metadata": {
  "kernelspec": {
   "display_name": "Python 3.9.12 ('base')",
   "language": "python",
   "name": "python3"
  },
  "language_info": {
   "codemirror_mode": {
    "name": "ipython",
    "version": 3
   },
   "file_extension": ".py",
   "mimetype": "text/x-python",
   "name": "python",
   "nbconvert_exporter": "python",
   "pygments_lexer": "ipython3",
   "version": "3.9.12"
  },
  "orig_nbformat": 4,
  "vscode": {
   "interpreter": {
    "hash": "e4abcd0df340a594effa82bcbf617a3d481270f90641c881f508b0a532b65559"
   }
  }
 },
 "nbformat": 4,
 "nbformat_minor": 2
}
