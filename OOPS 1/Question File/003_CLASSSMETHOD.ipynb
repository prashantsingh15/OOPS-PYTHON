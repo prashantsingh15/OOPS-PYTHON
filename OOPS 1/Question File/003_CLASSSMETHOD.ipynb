{
 "cells": [
  {
   "cell_type": "code",
   "execution_count": 3,
   "metadata": {},
   "outputs": [
    {
     "ename": "AttributeError",
     "evalue": "type object 'Student' has no attribute 'isTeen'",
     "output_type": "error",
     "traceback": [
      "\u001b[1;31m---------------------------------------------------------------------------\u001b[0m",
      "\u001b[1;31mAttributeError\u001b[0m                            Traceback (most recent call last)",
      "\u001b[1;32me:\\OOPS 1\\Question File\\003_CLASSSMETHOD.ipynb Cell 1\u001b[0m in \u001b[0;36m<cell line: 13>\u001b[1;34m()\u001b[0m\n\u001b[0;32m      <a href='vscode-notebook-cell:/e%3A/OOPS%201/Question%20File/003_CLASSSMETHOD.ipynb#W0sZmlsZQ%3D%3D?line=8'>9</a>\u001b[0m         \u001b[39m@staticmethod\u001b[39m\n\u001b[0;32m     <a href='vscode-notebook-cell:/e%3A/OOPS%201/Question%20File/003_CLASSSMETHOD.ipynb#W0sZmlsZQ%3D%3D?line=9'>10</a>\u001b[0m         \u001b[39mdef\u001b[39;00m \u001b[39misTeen\u001b[39m(age):\n\u001b[0;32m     <a href='vscode-notebook-cell:/e%3A/OOPS%201/Question%20File/003_CLASSSMETHOD.ipynb#W0sZmlsZQ%3D%3D?line=10'>11</a>\u001b[0m             \u001b[39mreturn\u001b[39;00m age\u001b[39m>\u001b[39m\u001b[39m16\u001b[39m\n\u001b[1;32m---> <a href='vscode-notebook-cell:/e%3A/OOPS%201/Question%20File/003_CLASSSMETHOD.ipynb#W0sZmlsZQ%3D%3D?line=12'>13</a>\u001b[0m a\u001b[39m=\u001b[39mStudent\u001b[39m.\u001b[39;49misTeen(\u001b[39m18\u001b[39m)\n\u001b[0;32m     <a href='vscode-notebook-cell:/e%3A/OOPS%201/Question%20File/003_CLASSSMETHOD.ipynb#W0sZmlsZQ%3D%3D?line=13'>14</a>\u001b[0m \u001b[39mprint\u001b[39m(a)\n",
      "\u001b[1;31mAttributeError\u001b[0m: type object 'Student' has no attribute 'isTeen'"
     ]
    }
   ],
   "source": [
    "class Student:\n",
    "    def __init__(self,name,age):\n",
    "        self.name=name\n",
    "        self.age=age\n",
    "    def print_student_details():\n",
    "        print(self.name,end=\"\")\n",
    "        print(self.age)\n",
    "\n",
    "        @staticmethod\n",
    "        def isTeen(age):\n",
    "            return age>16\n",
    "\n",
    "a=Student.isTeen(18)\n",
    "print(a)\n",
    "        "
   ]
  },
  {
   "cell_type": "code",
   "execution_count": 2,
   "metadata": {},
   "outputs": [
    {
     "name": "stdout",
     "output_type": "stream",
     "text": [
      "True\n"
     ]
    }
   ],
   "source": [
    "  class Student:\n",
    "      def __init__(self,name,age):\n",
    "          self.name = name\n",
    "          self.age = age\n",
    "      def print_student_details():\n",
    "          print(self.name, end=\" \" )\n",
    "          print(self.age)\n",
    "\n",
    "      @staticmethod\n",
    "      def isTeen(age):\n",
    "          return age>16\n",
    "\n",
    "  a = Student.isTeen(18)\n",
    "  print(a)"
   ]
  }
 ],
 "metadata": {
  "kernelspec": {
   "display_name": "Python 3.9.12 ('base')",
   "language": "python",
   "name": "python3"
  },
  "language_info": {
   "codemirror_mode": {
    "name": "ipython",
    "version": 3
   },
   "file_extension": ".py",
   "mimetype": "text/x-python",
   "name": "python",
   "nbconvert_exporter": "python",
   "pygments_lexer": "ipython3",
   "version": "3.9.12"
  },
  "orig_nbformat": 4,
  "vscode": {
   "interpreter": {
    "hash": "e4abcd0df340a594effa82bcbf617a3d481270f90641c881f508b0a532b65559"
   }
  }
 },
 "nbformat": 4,
 "nbformat_minor": 2
}
