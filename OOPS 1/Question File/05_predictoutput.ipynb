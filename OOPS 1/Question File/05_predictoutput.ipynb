{
 "cells": [
  {
   "cell_type": "code",
   "execution_count": 3,
   "metadata": {},
   "outputs": [
    {
     "ename": "AttributeError",
     "evalue": "'Student' object has no attribute 'name'",
     "output_type": "error",
     "traceback": [
      "\u001b[1;31m---------------------------------------------------------------------------\u001b[0m",
      "\u001b[1;31mAttributeError\u001b[0m                            Traceback (most recent call last)",
      "\u001b[1;32me:\\OOPS 1\\Question File\\05_predictoutput.ipynb Cell 1\u001b[0m in \u001b[0;36m<cell line: 10>\u001b[1;34m()\u001b[0m\n\u001b[0;32m      <a href='vscode-notebook-cell:/e%3A/OOPS%201/Question%20File/05_predictoutput.ipynb#W0sZmlsZQ%3D%3D?line=6'>7</a>\u001b[0m         \u001b[39mprint\u001b[39m(\u001b[39mself\u001b[39m\u001b[39m.\u001b[39mage)\n\u001b[0;32m      <a href='vscode-notebook-cell:/e%3A/OOPS%201/Question%20File/05_predictoutput.ipynb#W0sZmlsZQ%3D%3D?line=8'>9</a>\u001b[0m s \u001b[39m=\u001b[39m Student(\u001b[39m\"\u001b[39m\u001b[39mRohan\u001b[39m\u001b[39m\"\u001b[39m,\u001b[39m20\u001b[39m)\n\u001b[1;32m---> <a href='vscode-notebook-cell:/e%3A/OOPS%201/Question%20File/05_predictoutput.ipynb#W0sZmlsZQ%3D%3D?line=9'>10</a>\u001b[0m \u001b[39mprint\u001b[39m(s\u001b[39m.\u001b[39;49mname)\n",
      "\u001b[1;31mAttributeError\u001b[0m: 'Student' object has no attribute 'name'"
     ]
    }
   ],
   "source": [
    "class Student:\n",
    "     def __init__(self,name,age):\n",
    "        self.__name = name\n",
    "        self.age = age\n",
    "     def print_student_details():\n",
    "        print(self.__name, end= \" \")\n",
    "        print(self.age)\n",
    "\n",
    "s = Student(\"Rohan\",20)\n",
    "print(s.name)"
   ]
  }
 ],
 "metadata": {
  "kernelspec": {
   "display_name": "Python 3.9.12 ('base')",
   "language": "python",
   "name": "python3"
  },
  "language_info": {
   "codemirror_mode": {
    "name": "ipython",
    "version": 3
   },
   "file_extension": ".py",
   "mimetype": "text/x-python",
   "name": "python",
   "nbconvert_exporter": "python",
   "pygments_lexer": "ipython3",
   "version": "3.9.12"
  },
  "orig_nbformat": 4,
  "vscode": {
   "interpreter": {
    "hash": "e4abcd0df340a594effa82bcbf617a3d481270f90641c881f508b0a532b65559"
   }
  }
 },
 "nbformat": 4,
 "nbformat_minor": 2
}
