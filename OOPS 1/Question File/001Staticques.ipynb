{
 "cells": [
  {
   "cell_type": "markdown",
   "metadata": {},
   "source": [
    "IT WILL THROW ERROR BECAUSE------>Once you create an object of the Student class, it also expects two arguments i.e one for name and one for age. But in this code no argument is passed while creating an object of the Student class, hence it will throw an error."
   ]
  },
  {
   "cell_type": "code",
   "execution_count": null,
   "metadata": {},
   "outputs": [],
   "source": [
    "class Student:\n",
    "    def __init__(self,name,age):\n",
    "        self.name=\"Prashant\"\n",
    "        self.age=19\n",
    "    def print_Student():\n",
    "        print(self.name)\n",
    "        print(self.age)\n",
    "s=Student()\n",
    "s.print_Student()        \n",
    "        "
   ]
  }
 ],
 "metadata": {
  "kernelspec": {
   "display_name": "Python 3.9.12 ('base')",
   "language": "python",
   "name": "python3"
  },
  "language_info": {
   "codemirror_mode": {
    "name": "ipython",
    "version": 3
   },
   "file_extension": ".py",
   "mimetype": "text/x-python",
   "name": "python",
   "nbconvert_exporter": "python",
   "pygments_lexer": "ipython3",
   "version": "3.9.12"
  },
  "orig_nbformat": 4,
  "vscode": {
   "interpreter": {
    "hash": "e4abcd0df340a594effa82bcbf617a3d481270f90641c881f508b0a532b65559"
   }
  }
 },
 "nbformat": 4,
 "nbformat_minor": 2
}
