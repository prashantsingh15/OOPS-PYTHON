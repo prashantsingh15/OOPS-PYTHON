{
 "cells": [
  {
   "cell_type": "code",
   "execution_count": 10,
   "metadata": {},
   "outputs": [],
   "source": [
    "class ExpenseTracker:\n",
    "    #class attribute\n",
    "    expense_version_tracker=0.1\n",
    "    def __init__(self,track_category,original_balance,budget):\n",
    "        #instance/object Attributes\n",
    "        self.tracking_category=track_category\n",
    "        self.original_balance=original_balance\n",
    "        self.tracker_budget=budget\n",
    "        #instance method\n",
    "    def get_original_balance(self):\n",
    "        return self.original_balance\n",
    "    def check_balance(self,limit=1000):\n",
    "        if self.tracker_budget>=limit:\n",
    "            return True\n",
    "        else:\n",
    "            return \"Your opening balance is less than limit\"\n",
    "    @staticmethod\n",
    "    def convert_amount(amount):\n",
    "            return float(amount)\n",
    "# FACTORY METHOD\n",
    "    @classmethod\n",
    "    def get_attributes_fromstring(cls,diary_entry:str):\n",
    "        tracking_cateogry, opening_balance, tracker_budget =diary_entry.split(\" \")\n",
    "\n",
    "        return ExpenseTracker(tracking_cateogry.capitalize(),\n",
    "                              cls.convert_amount(opening_balance),\n",
    "                              cls.convert_amount(tracker_budget)\n",
    "                                                )\n",
    "         "
   ]
  },
  {
   "cell_type": "code",
   "execution_count": 11,
   "metadata": {},
   "outputs": [],
   "source": [
    "ClassObject=ExpenseTracker.get_attributes_fromstring(\"shopping 100 5000\")"
   ]
  },
  {
   "cell_type": "code",
   "execution_count": 12,
   "metadata": {},
   "outputs": [
    {
     "data": {
      "text/plain": [
       "{'tracking_category': 'Shopping',\n",
       " 'original_balance': 100.0,\n",
       " 'tracker_budget': 5000.0}"
      ]
     },
     "execution_count": 12,
     "metadata": {},
     "output_type": "execute_result"
    }
   ],
   "source": [
    "ClassObject.__dict__"
   ]
  },
  {
   "cell_type": "code",
   "execution_count": 13,
   "metadata": {},
   "outputs": [
    {
     "data": {
      "text/plain": [
       "'Shopping'"
      ]
     },
     "execution_count": 13,
     "metadata": {},
     "output_type": "execute_result"
    }
   ],
   "source": [
    "ClassObject.tracking_category"
   ]
  },
  {
   "cell_type": "code",
   "execution_count": 6,
   "metadata": {},
   "outputs": [
    {
     "data": {
      "text/plain": [
       "'Home'"
      ]
     },
     "execution_count": 6,
     "metadata": {},
     "output_type": "execute_result"
    }
   ],
   "source": []
  }
 ],
 "metadata": {
  "kernelspec": {
   "display_name": "Python 3.9.12 ('base')",
   "language": "python",
   "name": "python3"
  },
  "language_info": {
   "codemirror_mode": {
    "name": "ipython",
    "version": 3
   },
   "file_extension": ".py",
   "mimetype": "text/x-python",
   "name": "python",
   "nbconvert_exporter": "python",
   "pygments_lexer": "ipython3",
   "version": "3.9.12"
  },
  "orig_nbformat": 4,
  "vscode": {
   "interpreter": {
    "hash": "e4abcd0df340a594effa82bcbf617a3d481270f90641c881f508b0a532b65559"
   }
  }
 },
 "nbformat": 4,
 "nbformat_minor": 2
}
